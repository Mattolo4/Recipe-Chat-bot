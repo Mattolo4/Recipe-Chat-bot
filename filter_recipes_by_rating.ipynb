{
 "cells": [
  {
   "cell_type": "code",
   "execution_count": 7,
   "metadata": {},
   "outputs": [
    {
     "name": "stdout",
     "output_type": "stream",
     "text": [
      "Filtered recipes with mean rating and number of ratings have been saved to 'filtered_recipes.csv'.\n"
     ]
    }
   ],
   "source": [
    "import pandas as pd\n",
    "\n",
    "# GENEROUSLY PROVDIDED BY CHATGPT\n",
    "\n",
    "# Load the data\n",
    "recipes_df = pd.read_csv('RAW_recipes.csv')\n",
    "interactions_df = pd.read_csv('RAW_interactions.csv')\n",
    "\n",
    "# Calculate the number of ratings and the average rating for each recipe\n",
    "ratings_summary = interactions_df.groupby('recipe_id')['rating'].agg(['count', 'mean']).reset_index()\n",
    "\n",
    "# Filter recipes with at least 3 ratings and an average rating greater than 2.5\n",
    "filtered_ratings = ratings_summary[(ratings_summary['count'] >= 3) & (ratings_summary['mean'] > 2.5)]\n",
    "\n",
    "# Merge the filtered ratings with the recipes DataFrame to get the final filtered recipes\n",
    "filtered_recipes = pd.merge(recipes_df, filtered_ratings, left_on='id', right_on='recipe_id')\n",
    "\n",
    "# Rename columns for clarity\n",
    "filtered_recipes.rename(columns={'count': 'num_ratings', 'mean': 'average_rating'}, inplace=True)\n",
    "\n",
    "# Save the filtered recipes to a new CSV file\n",
    "filtered_recipes.to_csv('filtered_recipes.csv', index=False)\n",
    "\n",
    "print(\"Filtered recipes with mean rating and number of ratings have been saved to 'filtered_recipes.csv'.\")\n"
   ]
  },
  {
   "cell_type": "code",
   "execution_count": 9,
   "metadata": {},
   "outputs": [
    {
     "name": "stdout",
     "output_type": "stream",
     "text": [
      "<class 'pandas.core.frame.DataFrame'>\n",
      "RangeIndex: 231637 entries, 0 to 231636\n",
      "Data columns (total 12 columns):\n",
      " #   Column          Non-Null Count   Dtype \n",
      "---  ------          --------------   ----- \n",
      " 0   name            231636 non-null  object\n",
      " 1   id              231637 non-null  int64 \n",
      " 2   minutes         231637 non-null  int64 \n",
      " 3   contributor_id  231637 non-null  int64 \n",
      " 4   submitted       231637 non-null  object\n",
      " 5   tags            231637 non-null  object\n",
      " 6   nutrition       231637 non-null  object\n",
      " 7   n_steps         231637 non-null  int64 \n",
      " 8   steps           231637 non-null  object\n",
      " 9   description     226658 non-null  object\n",
      " 10  ingredients     231637 non-null  object\n",
      " 11  n_ingredients   231637 non-null  int64 \n",
      "dtypes: int64(5), object(7)\n",
      "memory usage: 21.2+ MB\n"
     ]
    }
   ],
   "source": [
    "recipes_df.info()"
   ]
  },
  {
   "cell_type": "code",
   "execution_count": 8,
   "metadata": {},
   "outputs": [
    {
     "name": "stdout",
     "output_type": "stream",
     "text": [
      "<class 'pandas.core.frame.DataFrame'>\n",
      "RangeIndex: 92702 entries, 0 to 92701\n",
      "Data columns (total 15 columns):\n",
      " #   Column          Non-Null Count  Dtype  \n",
      "---  ------          --------------  -----  \n",
      " 0   name            92702 non-null  object \n",
      " 1   id              92702 non-null  int64  \n",
      " 2   minutes         92702 non-null  int64  \n",
      " 3   contributor_id  92702 non-null  int64  \n",
      " 4   submitted       92702 non-null  object \n",
      " 5   tags            92702 non-null  object \n",
      " 6   nutrition       92702 non-null  object \n",
      " 7   n_steps         92702 non-null  int64  \n",
      " 8   steps           92702 non-null  object \n",
      " 9   description     90706 non-null  object \n",
      " 10  ingredients     92702 non-null  object \n",
      " 11  n_ingredients   92702 non-null  int64  \n",
      " 12  recipe_id       92702 non-null  int64  \n",
      " 13  num_ratings     92702 non-null  int64  \n",
      " 14  average_rating  92702 non-null  float64\n",
      "dtypes: float64(1), int64(7), object(7)\n",
      "memory usage: 10.6+ MB\n"
     ]
    }
   ],
   "source": [
    "filtered_recipes.info()"
   ]
  }
 ],
 "metadata": {
  "kernelspec": {
   "display_name": "kddm",
   "language": "python",
   "name": "python3"
  },
  "language_info": {
   "codemirror_mode": {
    "name": "ipython",
    "version": 3
   },
   "file_extension": ".py",
   "mimetype": "text/x-python",
   "name": "python",
   "nbconvert_exporter": "python",
   "pygments_lexer": "ipython3",
   "version": "3.12.2"
  }
 },
 "nbformat": 4,
 "nbformat_minor": 2
}
