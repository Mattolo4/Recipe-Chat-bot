{
 "cells": [
  {
   "cell_type": "code",
   "execution_count": 1,
   "metadata": {},
   "outputs": [],
   "source": [
    "import pandas as pd\n",
    "import numpy as np\n",
    "from collections import Counter\n",
    "import re\n",
    "from preprocessing import *\n",
    "from white_list import *"
   ]
  },
  {
   "cell_type": "code",
   "execution_count": 2,
   "metadata": {},
   "outputs": [],
   "source": [
    "df_all = load_data(\"RAW_recipes.csv\")\n",
    "df_food = filter_tags(df_all,[\"beverages\"])\n",
    "df_food.reset_index(drop=True, inplace=True)"
   ]
  },
  {
   "cell_type": "code",
   "execution_count": 3,
   "metadata": {},
   "outputs": [],
   "source": [
    "ingredients_white_list = get_white_list(df_food)\n"
   ]
  },
  {
   "cell_type": "code",
   "execution_count": 4,
   "metadata": {},
   "outputs": [],
   "source": [
    "ingredients_dict = {string: index for index, string in enumerate(ingredients_white_list)}    #chatgpt"
   ]
  },
  {
   "cell_type": "code",
   "execution_count": 5,
   "metadata": {},
   "outputs": [],
   "source": [
    "def ingredient_to_int(ingredients_dict, ingredients):\n",
    "    result = [ingredients_dict.setdefault(i, -1) for i in ingredients]\n",
    "    result.sort()\n",
    "    return result\n",
    "\n",
    "def encode_ingredients_df(df,ingredients_dict):\n",
    "    df['ingredients_encoded'] = df['ingredients'].apply(lambda x: ingredient_to_int(ingredients_dict, x))\n",
    "    return df\n",
    "\n",
    "def encode_ingredients_arr(arr,ingredients_dict):\n",
    "    arr_encoded = ingredient_to_int(ingredients_dict, arr)\n",
    "    return arr_encoded\n",
    "\n",
    "\"\"\" def levenstein_dist(arr1,arr2,score):\n",
    "\n",
    "    if not len(arr1) or not len(arr2):\n",
    "        # one of them is empty\n",
    "        return score\n",
    "    \n",
    "    if arr1[0] == arr2[0]:\n",
    "        return levenstein_dist(arr1[1:], arr2[1:], score)\n",
    "    \n",
    "    else:\n",
    "        return min(levenstein_dist(arr1[1:],    arr2,       score+1),\n",
    "                   levenstein_dist(arr1,        arr2[1:],   score+1),\n",
    "                   levenstein_dist(arr1[1:],    arr2[1:],   score+1)) \"\"\"\n",
    "\n",
    "def levenstein_dist(arr1,arr2,score):\n",
    "\n",
    "    if not len(arr1) and not len(arr2):\n",
    "        # both are empty\n",
    "        return score\n",
    "    \n",
    "    if not len(arr1):\n",
    "        # one of them is empty\n",
    "        return score+len(arr2)\n",
    "    \n",
    "    if not len(arr2):\n",
    "        # one of them is empty\n",
    "        return score+len(arr1)\n",
    "    \n",
    "    if arr1[0] == arr2[0]:\n",
    "        return levenstein_dist(arr1[1:], arr2[1:], score)\n",
    "    \n",
    "    while True:\n",
    "        if arr1[0] < arr2[0]:\n",
    "            return levenstein_dist(arr1[1:], arr2, score+1)\n",
    "        else:\n",
    "            return levenstein_dist(arr1, arr2[1:], score+1)\n",
    "    \n",
    "def get_recipe_levenstein_dists(df,ingredients):\n",
    "    df_vecs = df['ingredients_encoded']\n",
    "    dists = df_vecs.apply(lambda x: levenstein_dist(x, ingredients, 0))\n",
    "    return dists"
   ]
  },
  {
   "cell_type": "code",
   "execution_count": 6,
   "metadata": {},
   "outputs": [],
   "source": [
    "user_ingredients = np.array(['garlic', 'onion', 'onions', 'tomatoes'])\n",
    "\n",
    "df_food = encode_ingredients_df(df_food,ingredients_dict)\n",
    "user_ingredients_encoded = encode_ingredients_arr(user_ingredients,ingredients_dict)\n",
    "\n",
    "dists = get_recipe_levenstein_dists(df_food,user_ingredients_encoded)"
   ]
  },
  {
   "cell_type": "code",
   "execution_count": 7,
   "metadata": {},
   "outputs": [
    {
     "data": {
      "text/plain": [
       "22171                         [ground beef, onions, garlic]\n",
       "178312                        [tomatoes, garlic, olive oil]\n",
       "21551     [tomatoes, onion, garlic, fresh basil leaf, ex...\n",
       "74318             [tomatoes, onion, garlic, cilantro, salt]\n",
       "1190                          [tomatoes, garlic, jalapenos]\n",
       "157363       [white bread, yellow mustard, onion, tomatoes]\n",
       "104525                                      [garlic, water]\n",
       "141109                                [ground beef, onions]\n",
       "112020      [pork chops, garlic, onion, kikkoman soy sauce]\n",
       "186193            [velveeta cheese, tomatoes, onion, salsa]\n",
       "Name: ingredients, dtype: object"
      ]
     },
     "execution_count": 7,
     "metadata": {},
     "output_type": "execute_result"
    }
   ],
   "source": [
    "top_recipes = dists.sort_values()[:10]\n",
    "df_food.iloc[top_recipes.index][\"ingredients\"]"
   ]
  }
 ],
 "metadata": {
  "kernelspec": {
   "display_name": "kddm",
   "language": "python",
   "name": "python3"
  },
  "language_info": {
   "codemirror_mode": {
    "name": "ipython",
    "version": 3
   },
   "file_extension": ".py",
   "mimetype": "text/x-python",
   "name": "python",
   "nbconvert_exporter": "python",
   "pygments_lexer": "ipython3",
   "version": "3.12.2"
  }
 },
 "nbformat": 4,
 "nbformat_minor": 2
}
