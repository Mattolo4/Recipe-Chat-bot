{
 "cells": [
  {
   "cell_type": "code",
   "execution_count": 1,
   "metadata": {},
   "outputs": [],
   "source": [
    "import pandas as pd\n",
    "import numpy as np\n",
    "from collections import Counter\n",
    "import re"
   ]
  },
  {
   "cell_type": "code",
   "execution_count": 2,
   "metadata": {},
   "outputs": [],
   "source": [
    "df_recipes = pd.read_csv(\"RAW_recipes.csv\", converters={'tags': lambda x: x[1:-1].split(',')})  #https://stackoverflow.com/questions/45758646/pandas-convert-string-into-list-of-strings\n",
    "\n",
    "#tags = df_recipes[\"tags\"]#.iloc[0:1000]\n",
    "df_recipes[\"tags\"] = df_recipes[\"tags\"].apply(lambda lst: [re.sub(r'^[^a-zA-Z0-9]+|[^a-zA-Z0-9]+$', '', s).lower() for s in lst])   #chatgpt for regex...\n",
    "\n",
    "# Counter(np.concatenate(df_recipes[\"tags\"]))"
   ]
  },
  {
   "cell_type": "code",
   "execution_count": 3,
   "metadata": {},
   "outputs": [],
   "source": [
    "def filter_tags(df, tags):\n",
    "    df_filtered = df.copy()\n",
    "    tags_set = set(tags)\n",
    "    df_filtered = df_filtered[~df_filtered['tags'].apply(lambda x: bool(tags_set.intersection(set(x))))]\n",
    "    \n",
    "    return df_filtered\n",
    "\n",
    "df_temp = filter_tags(df_recipes,[\"beverages\"])"
   ]
  },
  {
   "cell_type": "markdown",
   "metadata": {},
   "source": [
    "## Ingredients extraction\n",
    "#### LLAMA3 set up\n",
    "1. Download from https://ollama.com/\n",
    "2. Install\n",
    "3. Click here http://localhost:11434/ to check if it’s running (it should appear 'Ollama is running')\n",
    "4. Run in a terminal: `ollama run llama3`\n",
    "\n",
    "If u dont have: `pip install langchain-community`"
   ]
  },
  {
   "cell_type": "code",
   "execution_count": 1,
   "metadata": {},
   "outputs": [],
   "source": [
    "from langchain_community.llms import Ollama\n",
    "from collections import Counter\n",
    "from preprocessing import *\n",
    "import re\n",
    "\n",
    "llm = Ollama(model=\"llama3\")\n",
    "sentences = [\"I have tomatoes, onions, and garlic. What can I cook with them?\",\n",
    "             \"What dishes can I make with pasta, spinach, and cheese?\",\n",
    "             \"I found some shrimp, bell peppers, and mushrooms in the fridge. Any recipe suggestions?\",\n",
    "             \"My pantry has rice, beans, and tomatoes. What's a simple yet delicious meal I can prepare?\",\n",
    "             \"I have eggs, bacon, and bread. How can I turn these into a tasty breakfast?\",\n",
    "             \"What can I whip up with ground beef, bell peppers, and onions?\",\n",
    "             \"I bought salmon, asparagus, and lemon. What's a good recipe for a healthy dinner?\",\n",
    "             \"I've got tofu, broccoli, and soy sauce. Any suggestions for a vegetarian stir-fry?\",\n",
    "             \"What desserts can I make with flour, sugar, and chocolate?\",\n",
    "             \"I'm craving something sweet. What can I make with apples, cinnamon, and oats?\"]\n"
   ]
  },
  {
   "cell_type": "markdown",
   "metadata": {},
   "source": [
    "the LLM approach could look like:\n",
    "prompt:\n",
    "List all food ingredients from the following text {{user prompt}"
   ]
  },
  {
   "cell_type": "code",
   "execution_count": 2,
   "metadata": {},
   "outputs": [],
   "source": [
    "\n",
    "def extractIngredients(sentence):\n",
    "    output = ''\n",
    "    prompt = f\"Output the ingredients from the following sentence without any comments, separated only by white spaces: {sentence}\"\n",
    "    for chunks in llm.stream(prompt):\n",
    "        output += chunks\n",
    "\n",
    "    pattern = r'\\b[a-zA-Z]+\\b'  # Simple pattern to match words\n",
    "    ingredients = re.findall(pattern, output.lower())\n",
    "    return list(ingredients)\n",
    "\n",
    "\n",
    "# Extract and count all the ingredients form a DF\n",
    "def extract_info_form_df(df, info='ingredients'):\n",
    "    df_food = filter_tags(df,[\"beverages\"])\n",
    "    df_food.reset_index(drop=True, inplace=True)\n",
    "    ingredients = df_food[info]#.iloc[0:1000]\n",
    "    all_ingredients = np.concatenate(ingredients)\n",
    "    all_ingredients_counter = Counter(all_ingredients)  \n",
    "    return all_ingredients_counter\n"
   ]
  },
  {
   "cell_type": "code",
   "execution_count": 3,
   "metadata": {},
   "outputs": [
    {
     "name": "stdout",
     "output_type": "stream",
     "text": [
      "sent: I have tomatoes, onions, and garlic. What can I cook with them?\n",
      "Ingred:['tomatoes', 'onions', 'garlic']\n",
      "sent: What dishes can I make with pasta, spinach, and cheese?\n",
      "Ingred:['pasta', 'spinach', 'cheese']\n",
      "sent: I found some shrimp, bell peppers, and mushrooms in the fridge. Any recipe suggestions?\n",
      "Ingred:['shrimp', 'bell', 'peppers', 'mushrooms']\n",
      "sent: My pantry has rice, beans, and tomatoes. What's a simple yet delicious meal I can prepare?\n",
      "Ingred:['rice', 'beans', 'tomatoes']\n",
      "sent: I have eggs, bacon, and bread. How can I turn these into a tasty breakfast?\n",
      "Ingred:['eggs', 'bacon', 'bread']\n",
      "sent: What can I whip up with ground beef, bell peppers, and onions?\n",
      "Ingred:['ground', 'beef', 'bell', 'peppers', 'onions']\n",
      "sent: I bought salmon, asparagus, and lemon. What's a good recipe for a healthy dinner?\n",
      "Ingred:['salmon', 'asparagus', 'lemon']\n",
      "sent: I've got tofu, broccoli, and soy sauce. Any suggestions for a vegetarian stir-fry?\n",
      "Ingred:['tofu', 'broccoli', 'soy', 'sauce']\n",
      "sent: What desserts can I make with flour, sugar, and chocolate?\n",
      "Ingred:['flour', 'sugar', 'chocolate']\n",
      "sent: I'm craving something sweet. What can I make with apples, cinnamon, and oats?\n",
      "Ingred:['apples', 'cinnamon', 'oats']\n"
     ]
    }
   ],
   "source": [
    "for sent in sentences:\n",
    "    print(f\"sent: {sent}\\nIngred:{extractIngredients(sent)}\")"
   ]
  },
  {
   "cell_type": "markdown",
   "metadata": {},
   "source": [
    "### Cosine Similarity apporach\n",
    "\n",
    "- https://www.datastax.com/guides/what-is-cosine-similarity\n",
    "- https://www.geeksforgeeks.org/what-is-text-analytics/\n",
    "\n",
    "1. Vectorize the Ingredients: Convert the list of ingredients for each recipe and the extracted ingredients into vectors.\n",
    "2. only transform the user’s ingredients into a vector and compare that to the vectors of the recipes\n",
    "3. Compute Cosine Similarity: Compute the cosine similarity between the extracted ingredients' vector and the ingredients' vector for each recipe.\n",
    "4. Sort by Similarity: Sort the recipes based on their similarity scores and select the top matches."
   ]
  },
  {
   "cell_type": "code",
   "execution_count": 94,
   "metadata": {},
   "outputs": [],
   "source": [
    "# ingredients = ['broccoli','tofu', 'bell peppers', 'onions']\n",
    "# ingredients = ['eggs','garglic', 'beans', 'lemon']\n",
    "# ingredients = ['tomatoes','carrots', 'beans', 'salad']\n",
    "ingredients = ['kidney beans', 'black beans', 'fire-roasted tomatoes', 'salsa', 'water']\n",
    "sentence = \"I have tomatoes, onions, and garlic. What can I cook with them?\""
   ]
  },
  {
   "cell_type": "markdown",
   "metadata": {},
   "source": [
    "This version of the function uses TruncatedSVD for dimensionality reduction and adjusts the parameters of the TfidfVectorizer for potentially better results. Please note that the optimal number of components for TruncatedSVD and the parameters for TfidfVectorizer may vary depending on your specific dataset and use case"
   ]
  },
  {
   "cell_type": "code",
   "execution_count": 95,
   "metadata": {},
   "outputs": [
    {
     "name": "stdout",
     "output_type": "stream",
     "text": [
      "Recipe: 15 minute vegetarian chili,\t Similarity Score: 0.010217702591784445\n",
      "Recipe: not your average  ham   bean soup,\t Similarity Score: -0.014500432722559742\n",
      "Recipe: homemade  vegetable soup from a can,\t Similarity Score: 0.3990679607355928\n",
      "Ingredients:\n",
      "['kidney beans', 'black beans', 'fire-roasted tomatoes', 'salsa', 'water']\n",
      "Most Likely Recipes:\n",
      "974     [kidney beans, black beans, fire-roasted tomat...\n",
      "1366    [ground beef, rotel tomatoes & chilies, chili ...\n",
      "245     [ham bone, ham, onion, carrots, celery ribs, h...\n",
      "Name: ingredients, dtype: object\n",
      "\n"
     ]
    }
   ],
   "source": [
    "from sklearn.feature_extraction.text import TfidfVectorizer\n",
    "from sklearn.metrics.pairwise import cosine_similarity\n",
    "from sklearn.decomposition import TruncatedSVD\n",
    "\n",
    "def clean_dataframe(df):\n",
    "    # Drop rows with NaN values in 'ingredients' column\n",
    "    df = df.dropna(subset=['ingredients'])\n",
    "    # Convert ingredients column from string to list\n",
    "    df['ingredients'] = df['ingredients'].apply(lambda x: eval(x) if isinstance(x, str) else x)\n",
    "    # Filter out rows where ingredients are not lists or contain NaN\n",
    "    df = df[df['ingredients'].apply(lambda x: isinstance(x, list) and all(isinstance(i, str) for i in x))]\n",
    "    return df\n",
    "\n",
    "def process_list(ingredient_list):\n",
    "    return [s.lower() if isinstance(s, str) else s for s in ingredient_list]\n",
    "\n",
    "def preprocess(text):\n",
    "    # Convert text to lowercase\n",
    "    text = text.lower()\n",
    "    # Remove punctuation\n",
    "    text = ''.join([c for c in text if c.isalnum() or c.isspace()])\n",
    "    return text\n",
    "\n",
    "\n",
    "# only transform the user’s ingredients into a vector and compare that to the vectors of the recipes\n",
    "def get_most_likely_recipes(user_ingredients, df, top_n=5, n_components=100):\n",
    "\n",
    "    # Preprocess user input ingredients\n",
    "    user_ingredients = [preprocess(ingredient) for ingredient in user_ingredients]\n",
    "    user_ingredients_str = ' '.join(user_ingredients)\n",
    "\n",
    "    df = clean_dataframe(df)\n",
    "    df = df.dropna(subset=['ingredients'])\n",
    "\n",
    "    # Convert list of ingredients to strings\n",
    "    df['ingredients_str'] = df['ingredients'].iloc[:7999].apply(lambda x: ' '.join([preprocess(ingredient) for ingredient in x]))\n",
    "    df = df.dropna(subset=['ingredients_str'])\n",
    "\n",
    "    # Create the TfidfVectorizer instance\n",
    "    vectorizer = TfidfVectorizer(min_df=0.01, max_df=0.95).fit(df['ingredients_str'])\n",
    "    vectors = vectorizer.transform(df['ingredients_str'])\n",
    "\n",
    "    # Dimensionality reduction\n",
    "    svd = TruncatedSVD(n_components=n_components)\n",
    "    vectors_svd = svd.fit_transform(vectors)\n",
    "\n",
    "    # Transform user's ingredients into a vector\n",
    "    user_vector = vectorizer.transform([user_ingredients_str])\n",
    "    user_vector_svd = svd.transform(user_vector)\n",
    "\n",
    "    # Compute cosine similarity\n",
    "    cosine_sim = cosine_similarity(user_vector_svd, vectors_svd).flatten()\n",
    "\n",
    "    # Get top_n recipes with highest similarity scores\n",
    "    top_indices = cosine_sim.argsort()[-top_n:][::-1]\n",
    "    top_recipes = df.iloc[top_indices]\n",
    "\n",
    "    for score, recipe in zip(cosine_sim, most_likely_recipes['name']):\n",
    "        print(f\"Recipe: {recipe},\\t Similarity Score: {score}\")\n",
    "\n",
    "    return top_recipes\n",
    "\n",
    "most_likely_recipes = get_most_likely_recipes(ingredients, df_recipes, 3)\n",
    "if len(most_likely_recipes) != 0: print(f\"Ingredients:\\n{ingredients}\\nMost Likely Recipes:\\n{most_likely_recipes['ingredients']}\\n\")\n",
    "else: print(\"No recipe found\")"
   ]
  },
  {
   "cell_type": "markdown",
   "metadata": {},
   "source": [
    "## Evaluation\n",
    "\n",
    "The following function builds a vector of list: each list contains the ingredients from the DB [0:100]; with those we automatically generated 100 user inputs that contains those ingredients."
   ]
  },
  {
   "cell_type": "code",
   "execution_count": 9,
   "metadata": {},
   "outputs": [
    {
     "name": "stdout",
     "output_type": "stream",
     "text": [
      "[\"['winter squash', 'mexican seasoning', 'mixed spice', 'honey', 'butter', 'olive oil', 'salt']\", \"['prepared pizza crust', 'sausage patty', 'eggs', 'milk', 'salt and pepper', 'cheese']\", \"['ground beef', 'yellow onions', 'diced tomatoes', 'tomato paste', 'tomato soup', 'rotel tomatoes', 'kidney beans', 'water', 'chili powder', 'ground cumin', 'salt', 'lettuce', 'cheddar cheese']\", \"['spreadable cheese with garlic and herbs', 'new potatoes', 'shallots', 'parsley', 'tarragon', 'olive oil', 'red wine vinegar', 'salt', 'pepper', 'red bell pepper', 'yellow bell pepper']\", \"['tomato juice', 'apple cider vinegar', 'sugar', 'salt', 'pepper', 'clove oil', 'cinnamon oil', 'dry mustard']\", \"['milk', 'vanilla ice cream', 'frozen apple juice concentrate', 'apple']\", \"['fennel seeds', 'green olives', 'ripe olives', 'garlic', 'peppercorn', 'orange rind', 'orange juice', 'red chile', 'extra virgin olive oil']\", \"['pork spareribs', 'soy sauce', 'fresh garlic', 'fresh ginger', 'chili powder', 'fresh coarse ground black pepper', 'salt', 'fresh cilantro leaves', 'tomato sauce', 'brown sugar', 'yellow onion', 'white vinegar', 'honey', 'a.1. original sauce', 'liquid smoke', 'cracked black pepper', 'cumin', 'dry mustard', 'cinnamon sticks', 'orange, juice of', 'mirin', 'water']\", \"['chocolate sandwich style cookies', 'chocolate syrup', 'vanilla ice cream', 'bananas', 'strawberry ice cream', 'whipped cream']\", \"['sugar', 'unsalted butter', 'bananas', 'eggs', 'fresh lemon juice', 'orange rind', 'cake flour', 'baking soda', 'salt']\", \"['whole berry cranberry sauce', 'sour cream', 'prepared horseradish']\", \"['vanilla wafers', 'butter', 'powdered sugar', 'eggs', 'whipping cream', 'strawberry', 'walnuts']\", \"['great northern bean', 'chicken bouillon cubes', 'dark brown sugar', 'molasses', 'cornstarch', 'onion', 'garlic powder', 'mustard powder', 'chili powder', 'salt', 'black pepper', 'bacon', 'water']\", \"['collard greens', 'brown sugar', 'molasses', 'hot sauce', 'whiskey', 'ham hock', 'salt']\", \"['gentian root', 'scullcap herb', 'burnet root', 'wood bethony', 'spearmint']\", \"['lean pork chops', 'flour', 'salt', 'dry mustard', 'garlic powder', 'oil', 'chicken rice soup']\", \"['egg roll wrap', 'whole green chilies', 'cheese', 'cornstarch', 'oil']\", \"['butterscotch chips', 'chinese noodles', 'salted peanuts']\", \"['celery', 'onion', 'ground pork', 'soy sauce', 'beef broth', 'cooking oil', 'hamburger buns']\", \"['canola oil', 'onion', 'garlic', 'cauliflower', 'potatoes', 'vegetable bouillon cubes', 'water', 'salt free herb and spice seasoning mix', 'ground coriander', 'great northern bean', 'salt and pepper', 'broccoli floret', 'escarole', 'green peas', 'red bell pepper', 'fresh herb']\", \"['water', 'salt', 'boiling potatoes', 'fresh spinach leaves', 'unsalted butter', 'coarse salt', 'fresh ground black pepper', 'nutmeg']\", \"['onion', 'scallion', 'apple juice', 'olive oil', 'spinach', 'fresh parsley', 'celery', 'broth', 'rolled oats', 'salt', 'dried thyme', 'white pepper']\", \"['boneless skinless chicken breast halves', 'condensed cream of chicken soup', 'egg', 'seasoning salt', 'all-purpose flour', 'cornstarch', 'garlic powder', 'paprika', 'salt and pepper', 'oil']\", \"['all-purpose flour', 'granulated sugar', 'baking powder', 'salt', 'vanilla extract', 'egg', 'milk', 'vegetable oil', 'bread', 'brown sugar', 'ground cinnamon', 'butter', 'powdered sugar']\", \"['butter', 'lemon, juice of', 'salt', 'white pepper', 'egg yolks']\", \"['ground black pepper', 'ground ginger', 'ground coriander', 'ground cumin', 'ground turmeric', 'black cumin']\", \"['vegetarian ground beef', 'garlic', 'onion', 'jalapenos', 'green pepper', 'celery', 'kidney beans', 'diced tomatoes', 'chili powder', 'black pepper', 'salt', 'red pepper flakes']\", \"['beef stew meat', 'water', 'tomatoes', 'beef bouillon cube', 'onion', 'dried parsley', 'salt', 'ground thyme', 'ground pepper', 'zucchini', 'cabbage', 'garbanzo beans', 'elbow macaroni', 'parmesan cheese']\", \"['red potatoes', 'margarine', 'rosemary']\", \"['unsalted butter', 'carrot', 'onion', 'celery', 'broccoli stem', 'dried thyme', 'dried oregano', 'dried sweet basil leaves', 'dry white wine', 'chicken stock', 'worcestershire sauce', 'tabasco sauce', 'smoked chicken', 'black beans', 'broccoli floret', 'heavy cream', 'salt & fresh ground pepper', 'cornstarch']\", \"['butter', 'sugar', 'vanilla', 'eggs', 'all-purpose flour', 'baking cocoa', 'baking powder', 'salt', 'miniature peppermint patties']\", \"['ground beef', 'onion', 'tomato sauce', 'taco sauce', 'salt', 'pepper', 'tabasco sauce', 'hot chili pepper', 'cornmeal', 'whole kernel corn', 'sliced ripe olives', 'cheddar cheese']\", \"['butter', 'dry ranch dressing mix', 'french bread']\", \"['ground venison', 'egg substitute', 'non-fat powdered milk', 'water', 'fresh breadcrumb', 'onion', 'salt', 'black pepper', 'dry mustard', 'worcestershire sauce']\", \"['milk', 'frozen juice concentrate', 'plain yogurt']\", \"['low sodium chicken broth', 'diced tomatoes', 'zucchini', 'corn', 'potatoes', 'wax beans', 'green beans', 'carrots']\", \"['frozen chopped spinach', 'egg', 'salt', 'black pepper', 'onion', 'sharp cheddar cheese', 'condensed cream of mushroom soup', 'crouton']\", \"['red potatoes', 'green onion', 'diced pimentos', 'fat-free mayonnaise', 'plain low-fat yogurt', 'low-fat sour cream', 'sugar', 'prepared mustard', 'white wine vinegar', 'salt', 'pepper', 'celery seed', 'garlic']\", \"['frozen chopped spinach', 'eggs', 'garlic powder', 'soft breadcrumbs', 'oregano', 'margarine', 'sage', 'onion']\", \"['ground beef', 'onion', 'frozen vegetables', 'cream of mushroom soup', 'condensed cream of mushroom & garlic soup', 'salt & pepper', 'cooking oil', 'cornbread mix']\", \"['angel hair pasta', 'toasted sesame oil', 'soy sauce', 'honey', 'garlic', 'green onions', 'toasted sesame seeds', 'stir fry vegetables']\", \"['all-purpose flour', 'buckwheat flour', 'unsweetened cocoa', 'baking powder', 'baking soda', 'salt', 'ground cinnamon', 'ground cloves', 'honey', 'sugar', 'eggs', 'yam', 'low-fat buttermilk', 'orange rind', 'orange juice', 'canola oil', 'brown sugar', 'flour', 'cinnamon', 'butter', 'pecans']\", \"['all-purpose flour', 'buckwheat flour', 'unsweetened cocoa', 'baking powder', 'baking soda', 'salt', 'ground cinnamon', 'ground cloves', 'sorghum', 'eggs', 'yam', 'low-fat buttermilk', 'orange rind', 'orange juice', 'canola oil', 'raisins', 'boiling water', 'granulated sugar']\", \"['ground beef', 'sugar', 'prepared yellow mustard', 'beer', 'cayenne', 'garlic', 'salt & pepper', 'american cheese']\", \"['tri-color spiral pasta', 'dill pickles', 'ripe olives', 'green onion', 'chives', 'sweet pepper', 'water chestnut', 'tomatoes', 'ham', 'cheese', 'olive oil', 'cider vinegar', 'onion powder', 'garlic powder', 'salt and pepper', 'italian seasoning']\", \"['frozen french fries', 'oil', 'salt & freshly ground black pepper', 'parmesan cheese', 'oregano', 'basil', 'flat leaf parsley']\", \"['sandwich bun', 'good seasonings italian salad dressing mix', 'butter', 'deli turkey', 'ham', 'pepperoni', 'cheddar cheese', 'swiss cheese', 'mozzarella cheese']\", \"['shortening', 'icing sugar', 'vanilla', 'all-purpose flour', 'baking powder', 'sugar', 'eggs', 'salt', 'milk', 'butter']\", \"['yellow cake mix', 'vanilla instant pudding mix', 'nutmeg', 'cinnamon', 'eggs', 'oil', 'water', 'crushed pineapple', 'carrot', 'pecans', 'coconut']\", \"['whole kernel corn', 'onion', 'red bell pepper', 'butter', 'jiffy corn muffin mix', 'egg', 'heavy cream', 'jalapenos', 'sharp cheddar cheese', 'honey']\", \"['flour', 'water', 'dry yeast', 'milk', 'sugar', 'eggs', 'vegetable oil', 'baking soda', 'baking powder', 'salt', 'cinnamon', 'vanilla', 'crushed pineapple', 'raisins', 'nuts', 'butter', 'brown sugar']\", \"['italian sausage', 'ground beef', 'garlic', 'dried basil', 'salt', 'whole tomato', 'tomato paste', 'ricotta cheese', 'cottage cheese', 'parmesan cheese', 'parsley flakes', 'eggs', 'ground black pepper', 'lasagna noodle', 'mozzarella cheese']\", \"['eggs', 'cottage cheese', 'cheese', 'frozen chopped spinach', 'beef', 'salt', 'pepper', 'herbs', 'spices', 'olive oil flavored cooking spray', 'toasted wheat germ']\", \"['rolls', 'brown sugar', 'instant vanilla pudding', 'cinnamon', 'raisins', 'butter']\", \"['stewed tomatoes', 'prego spaghetti sauce', 'garlic', 'ground beef', 'white onion', 'granulated sugar']\", \"['beef steaks', 'vegetable oil', 'spicy mustard', 'fresh lemon juice', 'honey', 'brown sugar', 'ketchup', 'hot sauce', 'sour cream', 'fresh garlic', 'fresh parsley', 'dried dill weed']\", \"['flour', 'salt', 'baking powder', 'sugar', 'butter', 'egg', 'milk']\", \"['tomatoes', 'garlic', 'onion', 'button mushrooms', 'hot sauce', 'dried oregano', 'dried basil', 'fresh parsley', 'water', 'salsa', 'chicken breasts', 'olive oil', 'fresh ground black pepper', 'parmesan cheese', 'pasta']\", \"['fresh herbs', 'cider vinegar', 'fresh herb']\", \"['fresh corn', 'eggs', 'flour', 'salt', 'pepper', 'baking powder', 'cream', 'fat']\", \"['fettuccine pasta', 'cheddar cheese soup', 'milk', 'picante sauce', 'black olives', 'jalapeno']\", \"['frozen peas', 'hass avocado', 'salt', 'lemons, juice of', 'tomatoes', 'onion', 'cilantro']\", \"['lemon juice', 'oil', 'worcestershire sauce', 'basil', 'soy sauce', 'garlic powder', 'pepper']\", \"['unflavored gelatin', 'milk', 'cream cheese', 'yogurt', 'apple', 'pear']\", \"['veal roast', 'butter', 'oil', 'carrots', 'onions', 'parsley sprigs', 'bay leaf', 'thyme', 'salt', 'pepper', 'bacon']\", \"['tomatoes', 'crackers', 'mayonnaise', 'black pepper']\", \"['ciabatta', 'provolone cheese', 'genoa salami', 'ham', 'tomatoes', 'sweet onion', 'green olives', 'kalamata olive', 'fresh basil', 'capers', 'garlic', 'brine', 'oregano leaves', 'olive oil', 'red wine vinegar', 'fresh parsley', 'carrot']\", \"['whipping cream', 'vanilla instant pudding mix', 'powdered sugar', 'vanilla extract']\", \"['gelatin', 'milk', 'cream cheese', 'sugar', 'vanilla extract', 'miniature semisweet chocolate chips', 'prepared graham cracker crusts', 'cookie']\", \"['carrots', 'butter', 'onion', 'sliced mushrooms', 'zucchini', 'celery', 'green pepper', 'cloves', 'tomatoes', 'chili powder', 'ground cumin', 'oregano', 'cayenne pepper', 'flour', 'water', 'monterey jack cheese', 'salt', 'all-purpose flour', 'baking powder', 'vegetable shortening', 'soy sauce', 'egg']\", \"['sweet corn', 'sweet butter', 'half-and-half', 'salt and pepper']\", \"['all-purpose flour', 'sugar', 'salt', 'baking soda', 'lemon, rind of', 'vanilla', 'butter', 'yogurt', 'eggs']\", \"['unsweetened chocolate squares', 'butter', 'sugar', 'eggs', 'flour', 'vanilla', 'nuts']\", \"['vermicelli', 'rice vinegar', 'reduced sodium soy sauce', 'vegetable oil', 'fresh ginger', 'chili-garlic sauce', 'sesame oil', 'green onions', 'broccoli', 'cooked chicken', 'fresh cilantro', 'sesame seeds']\", \"['philadelphia cream cheese', 'orange juice', 'orange rind', 'sugar', 'apples', 'celery', 'pecans']\", \"['boneless chicken breast', 'garlic', 'salt', 'cumin', 'paprika', 'thyme', 'olive oil', 'lemon juice', 'cayenne', 'fresh ground pepper']\", \"['baking potato', 'mozzarella cheese', 'tomato sauce', 'part-skim ricotta cheese', 'oregano leaves', 'garlic powder', 'parmesan cheese']\", \"['onion', 'mushroom pieces', 'sodium-free vegetable broth', 'tomato puree', 'cornstarch', 'white wine', 'black pepper', 'tabasco sauce']\", \"['light olive oil', 'red wine vinegar', 'garlic', 'salt', 'fresh basil', 'black pepper', 'white kidney beans', 'albacore tuna in water', 'scallions', 'red sweet bell peppers', 'bibb lettuce']\", \"['bacon', 'onion', 'celery', 'carrot', 'garlic', 'butter', 'olive oil', 'lean ground beef', 'ground pork', 'beef consomme', 'dry white wine', 'crushed tomatoes', 'salt', 'black pepper', 'rubbed sage', 'oregano', 'red pepper flakes', 'nutmeg', 'milk', 'penne pasta']\", \"['apples', 'red cinnamon candies', 'sugar substitute', 'water']\", \"['elbow macaroni', 'green pepper', 'onion', 'celery', 'fresh tomato', 'cucumber', 'oil', 'brown sugar', 'lemon juice', 'ketchup']\", \"['flour', 'sugar', 'cocoa', 'baking powder', 'salt', 'milk', 'vegetable oil', 'vanilla', 'brown sugar', 'hot water']\", \"['eggs', 'flour', 'milk', 'salt', 'butter', 'powdered sugar', 'apple pie filling', 'toasted almonds']\", \"['white bread', 'mayonnaise', 'bananas']\", \"['boneless skinless chicken thighs', 'all-purpose flour', 'salt', 'fresh ground black pepper', 'dried oregano', 'dried thyme', 'garlic powder', 'vegetable oil', 'onion', 'chicken stock', 'dry white wine', 'breadcrumbs', 'milk', 'lean ground beef', 'poultry seasoning']\", \"['cream cheese', 'salmon', 'salt', 'lemon juice', 'onions', 'liquid smoke']\", \"['onion', 'garlic', 'ground coriander', 'ground cumin', 'red chili pepper', 'peanut oil', 'carrots', 'green beans', 'tomatoes', 'vegetable stock', 'bean sprouts', 'tempeh', 'soy sauce', 'ground cayenne pepper', 'sambal oelek', 'ginger', 'brown sugar', 'water', 'desiccated coconut', 'peanuts']\", \"['ground beef', 'dried breadcrumbs', 'onion', 'eggs', 'tomato soup', 'water', 'sugar', 'salt and pepper', 'lemon juice']\", \"['soft silken tofu', 'avocado', 'chunky salsa', 'fresh cilantro', 'lime juice', 'hot sauce', 'salt and pepper']\", \"['shortening', 'white sugar', 'bananas', 'eggs', 'flour', 'salt', 'baking soda', 'cinnamon', 'ground cloves', 'nutmeg', 'walnuts']\", \"['boneless skinless chicken breast', 'tomatoes', 'dried basil', 'olive oil', 'lime juice', 'salt and pepper']\", \"['beef ribs', 'onion', 'ketchup', 'water', 'fresh lemon juice', 'brown sugar', 'mustard', 'salt', 'worcestershire sauce', 'vegetable oil']\", \"['green grape', 'egg whites', 'sugar']\", \"['betty crocker fudge brownie mix', 'eggs', 'water', 'vegetable oil', 'milk chocolate candy bars']\", \"['butter', 'sugar', 'eggs', 'bananas', 'water', 'baking soda', 'salt', 'baking powder', 'flour', 'nuts', 'chocolate chips']\", \"['oreo cookie crumbs', 'butter', 'cream cheese', 'sweetened condensed milk', 'eggs', 'vanilla', 'chocolate chips', 'flour', 'sour cream', 'brown sugar']\", \"['banana', 'natural-style peanut butter', '2% low-fat milk', 'sugar-free non-fat vanilla yogurt']\", \"['cream cheese', 'sour cream', 'taco seasoning', 'bean dip', 'cheddar cheese']\", '[\"mccormick\\'s montreal brand steak seasoning\", \\'dill weed\\', \\'no-salt-added ketchup\\', \\'ground sirloin\\', \\'bacon\\', \\'american cheese\\', \\'iceberg lettuce\\', \\'tomatoes\\', \\'onion\\']']\n"
     ]
    }
   ],
   "source": [
    "prompt = []\n",
    "for ingredient in df_recipes['ingredients'].iloc[:100]: # Depending on the range, different lists can be outputted \n",
    "    prompt.append(ingredient)\n",
    "\n",
    "print(prompt)"
   ]
  },
  {
   "cell_type": "code",
   "execution_count": 8,
   "metadata": {},
   "outputs": [],
   "source": [
    "# Generated by GPT\n",
    "user_inputs = [\n",
    "    \"What can I cook with winter squash, mexican seasoning, mixed spice, honey, butter, olive oil, and salt?\",\n",
    "    \"Can you suggest a recipe using prepared pizza crust, sausage patty, eggs, milk, salt and pepper, and cheese?\",\n",
    "    \"What dish can I make with ground beef, yellow onions, diced tomatoes, tomato paste, tomato soup, rotel tomatoes, kidney beans, water, chili powder, ground cumin, salt, lettuce, and cheddar cheese?\",\n",
    "    \"I'd like to cook something with spreadable cheese with garlic and herbs, new potatoes, shallots, parsley, tarragon, olive oil, red wine vinegar, salt, pepper, red bell pepper, and yellow bell pepper. Any ideas?\",\n",
    "    \"How can I use tomato juice, apple cider vinegar, sugar, salt, pepper, clove oil, cinnamon oil, and dry mustard in a recipe?\",\n",
    "    \"Do you have a recipe that includes milk, vanilla ice cream, frozen apple juice concentrate, and apple?\",\n",
    "    \"What can I make with fennel seeds, green olives, ripe olives, garlic, peppercorn, orange rind, orange juice, red chile, and extra virgin olive oil?\",\n",
    "    \"Can you suggest a dish using pork spareribs, soy sauce, fresh garlic, fresh ginger, chili powder, fresh coarse ground black pepper, salt, fresh cilantro leaves, tomato sauce, brown sugar, yellow onion, white vinegar, honey, A.1. original sauce, liquid smoke, cracked black pepper, cumin, dry mustard, cinnamon sticks, orange juice, mirin, and water?\",\n",
    "    \"I have chocolate sandwich style cookies, chocolate syrup, vanilla ice cream, bananas, strawberry ice cream, and whipped cream. What can I make?\",\n",
    "    \"What can I bake with sugar, unsalted butter, bananas, eggs, fresh lemon juice, orange rind, cake flour, baking soda, and salt?\",\n",
    "    \"Can you suggest a recipe using whole berry cranberry sauce, sour cream, and prepared horseradish?\",\n",
    "    \"I need a recipe that includes vanilla wafers, butter, powdered sugar, eggs, whipping cream, strawberry, and walnuts.\",\n",
    "    \"How can I use great northern bean, chicken bouillon cubes, dark brown sugar, molasses, cornstarch, onion, garlic powder, mustard powder, chili powder, salt, black pepper, bacon, and water in a recipe?\",\n",
    "    \"What can I cook with collard greens, brown sugar, molasses, hot sauce, whiskey, and ham hock?\",\n",
    "    \"Do you have a recipe that includes gentian root, scullcap herb, burnet root, wood bethony, and spearmint?\",\n",
    "    \"What can I make with lean pork chops, flour, salt, dry mustard, garlic powder, oil, and chicken rice soup?\",\n",
    "    \"Can you suggest a dish using egg roll wrap, whole green chilies, cheese, cornstarch, and oil?\",\n",
    "    \"I'd like to cook something with butterscotch chips, Chinese noodles, and salted peanuts. Any ideas?\",\n",
    "    \"How can I use celery, onion, ground pork, soy sauce, beef broth, cooking oil, and hamburger buns in a recipe?\",\n",
    "    \"What can I make with canola oil, onion, garlic, cauliflower, potatoes, vegetable bouillon cubes, water, salt free herb and spice seasoning mix, ground coriander, great northern bean, salt and pepper, broccoli floret, escarole, green peas, red bell pepper, and fresh herb?\",\n",
    "    \"Can you suggest a recipe using water, salt, boiling potatoes, fresh spinach leaves, unsalted butter, coarse salt, fresh ground black pepper, and nutmeg?\",\n",
    "    \"I need a dish that includes onion, scallion, apple juice, olive oil, spinach, fresh parsley, celery, broth, rolled oats, salt, dried thyme, and white pepper.\",\n",
    "    \"What can I cook with boneless skinless chicken breast halves, condensed cream of chicken soup, egg, seasoning salt, all-purpose flour, cornstarch, garlic powder, paprika, salt and pepper, and oil?\",\n",
    "    \"Can you suggest a recipe using all-purpose flour, granulated sugar, baking powder, salt, vanilla extract, egg, milk, vegetable oil, bread, brown sugar, ground cinnamon, butter, and powdered sugar?\",\n",
    "    \"How can I use butter, lemon juice, salt, white pepper, and egg yolks in a dish?\",\n",
    "    \"What can I make with ground black pepper, ground ginger, ground coriander, ground cumin, ground turmeric, and black cumin?\",\n",
    "    \"I'd like to cook something with vegetarian ground beef, garlic, onion, jalapenos, green pepper, celery, kidney beans, diced tomatoes, chili powder, black pepper, salt, and red pepper flakes. Any ideas?\",\n",
    "    \"What can I make with beef stew meat, water, tomatoes, beef bouillon cube, onion, dried parsley, salt, ground thyme, ground pepper, zucchini, cabbage, garbanzo beans, elbow macaroni, and parmesan cheese?\",\n",
    "    \"Do you have a recipe that includes red potatoes and margarine, and rosemary?\",\n",
    "    \"What dish can I make with unsalted butter, carrot, onion, celery, broccoli stem, dried thyme, dried oregano, dried sweet basil leaves, dry white wine, chicken stock, Worcestershire sauce, Tabasco sauce, smoked chicken, black beans, broccoli floret, heavy cream, salt & fresh ground pepper, and cornstarch?\",\n",
    "    \"What can I bake with butter, sugar, vanilla, eggs, all-purpose flour, baking cocoa, baking powder, salt, and miniature peppermint patties?\",\n",
    "    \"Can you suggest a recipe using ground beef, onion, tomato sauce, taco sauce, salt, pepper, Tabasco sauce, hot chili pepper, cornmeal, whole kernel corn, sliced ripe olives, and cheddar cheese?\",\n",
    "    \"How can I use butter, dry ranch dressing mix, and French bread in a recipe?\",\n",
    "    \"I need a dish that includes ground venison, egg substitute, non-fat powdered milk, water, fresh breadcrumb, onion, salt, black pepper, dry mustard, and Worcestershire sauce.\",\n",
    "    \"What can I make with milk, frozen juice concentrate, and plain yogurt?\",\n",
    "    \"Can you suggest a recipe using low sodium chicken broth, diced tomatoes, zucchini, corn, potatoes, wax beans, green beans, and carrots?\",\n",
    "    \"What dish can I make with frozen chopped spinach, egg, salt, black pepper, onion, sharp cheddar cheese, condensed cream of mushroom soup, and crouton?\",\n",
    "    \"What can I cook with red potatoes, green onion, diced pimentos, fat-free mayonnaise, plain low-fat yogurt, low-fat sour cream, sugar, prepared mustard, white wine vinegar, salt, pepper, celery seed, and garlic?\",\n",
    "    \"Can you suggest a recipe using frozen chopped spinach, eggs, garlic powder, soft breadcrumbs, oregano, margarine, sage, and onion?\",\n",
    "    \"What dish can I make with ground beef, onion, frozen vegetables, cream of mushroom soup, condensed cream of mushroom & garlic soup, salt & pepper, cooking oil, and cornbread mix?\",\n",
    "    \"I'd like to cook something with angel hair pasta, toasted sesame oil, soy sauce, honey, garlic, green onions, toasted sesame seeds, and stir fry vegetables. Any ideas?\",\n",
    "    \"Can you suggest a recipe using all-purpose flour, buckwheat flour, unsweetened cocoa, baking powder, baking soda, salt, ground cinnamon, ground cloves, honey, sugar, eggs, yam, low-fat buttermilk, orange rind, orange juice, canola oil, brown sugar, flour, cinnamon, butter, and pecans?\",\n",
    "    \"What can I bake with all-purpose flour, buckwheat flour, unsweetened cocoa, baking powder, baking soda, salt, ground cinnamon, ground cloves, sorghum, eggs, yam, low-fat buttermilk, orange rind, orange juice, canola oil, raisins, boiling water, and granulated sugar?\",\n",
    "    \"How can I use ground beef, sugar, prepared yellow mustard, beer, cayenne, garlic, salt & pepper, and American cheese in a recipe?\",\n",
    "    \"What can I make with tri-color spiral pasta, dill pickles, ripe olives, green onion, chives, sweet pepper, water chestnut, tomatoes, ham, cheese, olive oil, cider vinegar, onion powder, garlic powder, salt and pepper, and Italian seasoning?\",\n",
    "    \"Do you have a recipe that includes frozen French fries, oil, salt & freshly ground black pepper, parmesan cheese, oregano, basil, and flat leaf parsley?\",\n",
    "    \"What dish can I make with sandwich bun, Good Seasonings Italian salad dressing mix, butter, deli turkey, ham, pepperoni, cheddar cheese, Swiss cheese, and mozzarella cheese?\",\n",
    "    \"How can I use shortening, icing sugar, vanilla, all-purpose flour, baking powder, sugar, eggs, salt, milk, and butter in a recipe?\",\n",
    "    \"What can I bake with yellow cake mix, vanilla instant pudding mix, nutmeg, cinnamon, eggs, oil, water, crushed pineapple, carrot, pecans, and coconut?\",\n",
    "    \"Can you suggest a recipe using whole kernel corn, onion, red bell pepper, butter, Jiffy corn muffin mix, egg, heavy cream, jalapenos, sharp cheddar cheese, and honey?\",\n",
    "    \"What dish can I make with flour, water, dry yeast, milk, sugar, eggs, vegetable oil, baking soda, baking powder, salt, cinnamon, vanilla, crushed pineapple, raisins, nuts, butter, and brown sugar?\",\n",
    "    \"I'd like to cook something with Italian sausage, ground beef, garlic, dried basil, salt, whole tomato, tomato paste, ricotta cheese, cottage cheese, parmesan cheese, parsley flakes, eggs, ground black pepper, lasagna noodles, mozzarella cheese, and mushrooms. Any ideas?\",\n",
    "    \"Can you suggest a recipe using margarine, sugar, eggs, lemon extract, self-rising flour, evaporated milk, and flaked coconut?\",\n",
    "    \"How can I use chicken tenders, egg, butter, flour, milk, dried parsley, lemon, salt, pepper, and heavy cream in a dish?\",\n",
    "    \"What can I make with green onions, snow peas, mung bean sprout, carrot, water chestnut, oil, soy sauce, cornstarch, pork butt, flour, garlic powder, and ginger?\",\n",
    "    \"What dish can I make with hamburger bun, pork patty, egg, and cheese slice?\",\n",
    "    \"Can you suggest a recipe using instant tea, sugar, cinnamon, cloves, and nutmeg?\",\n",
    "    \"What can I make with ground beef, cream of mushroom soup, evaporated milk, beef broth, garlic powder, onion powder, parsley, pepper, and noodles?\",\n",
    "    \"How can I use chicken stock, potatoes, corn kernels, flour, heavy cream, black pepper, ground thyme, onion, and butter in a dish?\",\n",
    "    \"What dish can I make with cream of mushroom soup, cream of celery soup, frozen peas, celery, milk, thyme, paprika, salt, black pepper, and canned salmon?\",\n",
    "    \"Can you suggest a recipe using chicken, garlic, soy sauce, dried oregano, salt, fresh ground black pepper, canola oil, tomato, onion, chicken broth, cumin, fresh cilantro, avocado, lime, tortilla, and shredded cheddar cheese?\",\n",
    "    \"I'd like to cook something with red potatoes, carrots, red onion, zucchini, butter, fresh parsley, and salt. Any ideas?\",\n",
    "    \"What can I bake with graham cracker crust, sweetened condensed milk, lime juice, sour cream, and lime peel?\",\n",
    "    \"Can you suggest a recipe using frozen apple juice concentrate, chicken broth, Dijon mustard, molasses, and cornstarch?\",\n",
    "    \"What dish can I make with vanilla instant pudding mix, vanilla extract, milk, cream cheese, powdered sugar, lemon, and condensed milk?\",\n",
    "    \"How can I use potatoes, onions, and cheddar cheese in a recipe?\",\n",
    "    \"What can I cook with broccoli florets, butter, cream of chicken soup, American cheese, cheddar cheese, milk, salt, and pepper?\",\n",
    "    \"Can you suggest a recipe using ground beef, onion, potato, chili powder, salt, tomato, and lettuce?\",\n",
    "    \"What dish can I make with eggs, powdered sugar, butter, evaporated milk, and vanilla?\",\n",
    "    \"How can I use graham cracker crust, sweetened condensed milk, lime juice, sour cream, and lime peel in a dish?\",\n",
    "    \"What can I make with chicken broth, fresh mushrooms, butter, flour, cream, salt, fresh ground black pepper, dried dill, and lemon juice?\",\n",
    "    \"Can you suggest a recipe using vanilla instant pudding mix, vanilla extract, milk, cream cheese, powdered sugar, lemon, and condensed milk?\",\n",
    "    \"How can I use pork patty, hamburger bun, egg, and cheese slice in a dish?\"\n",
    "]"
   ]
  }
 ],
 "metadata": {
  "kernelspec": {
   "display_name": "kddm",
   "language": "python",
   "name": "python3"
  },
  "language_info": {
   "codemirror_mode": {
    "name": "ipython",
    "version": 3
   },
   "file_extension": ".py",
   "mimetype": "text/x-python",
   "name": "python",
   "nbconvert_exporter": "python",
   "pygments_lexer": "ipython3",
   "version": "3.10.5"
  }
 },
 "nbformat": 4,
 "nbformat_minor": 2
}
