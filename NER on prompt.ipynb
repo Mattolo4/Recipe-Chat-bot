{
 "cells": [
  {
   "cell_type": "code",
   "execution_count": 1,
   "metadata": {},
   "outputs": [],
   "source": [
    "import pandas as pd\n"
   ]
  },
  {
   "cell_type": "code",
   "execution_count": null,
   "metadata": {},
   "outputs": [],
   "source": [
    "def string_to_list(string):\n",
    "    # Remove leading and trailing whitespace\n",
    "    string = string.strip()\n",
    "    \n",
    "    # Check if the string starts and ends with '[' and ']'\n",
    "    if string[0] != '[' or string[-1] != ']':\n",
    "        raise ValueError(\"Input string is not formatted as a list\")\n",
    "    \n",
    "    # Remove '[' and ']' from the string\n",
    "    string = string[1:-1]\n",
    "    \n",
    "    # Split the string by commas\n",
    "    elements = string.split(',')\n",
    "    \n",
    "    # Initialize an empty list to store the converted elements\n",
    "    result = []\n",
    "    \n",
    "    # Convert each element to its appropriate type and add it to the result list\n",
    "    for element in elements:\n",
    "        # Remove leading and trailing whitespace\n",
    "        element = element.strip()\n",
    "        \n",
    "        # Check if the element is a string or a number\n",
    "        if element.startswith(\"'\") and element.endswith(\"'\"):\n",
    "            # If the element is a string, remove the quotes and append it to the result list\n",
    "            result.append(element[1:-1])\n",
    "      \n",
    "    \n",
    "    return result\n"
   ]
  },
  {
   "cell_type": "code",
   "execution_count": 11,
   "metadata": {},
   "outputs": [],
   "source": [
    "users = pd.read_csv(\"users.csv\")\n",
    "users[\"ingredients\"] = users[\"ingredients\"].apply(string_to_list)"
   ]
  },
  {
   "cell_type": "code",
   "execution_count": 13,
   "metadata": {},
   "outputs": [
    {
     "data": {
      "text/html": [
       "<div>\n",
       "<style scoped>\n",
       "    .dataframe tbody tr th:only-of-type {\n",
       "        vertical-align: middle;\n",
       "    }\n",
       "\n",
       "    .dataframe tbody tr th {\n",
       "        vertical-align: top;\n",
       "    }\n",
       "\n",
       "    .dataframe thead th {\n",
       "        text-align: right;\n",
       "    }\n",
       "</style>\n",
       "<table border=\"1\" class=\"dataframe\">\n",
       "  <thead>\n",
       "    <tr style=\"text-align: right;\">\n",
       "      <th></th>\n",
       "      <th>Unnamed: 0</th>\n",
       "      <th>sentences</th>\n",
       "      <th>ingredients</th>\n",
       "      <th>NER</th>\n",
       "    </tr>\n",
       "  </thead>\n",
       "  <tbody>\n",
       "    <tr>\n",
       "      <th>0</th>\n",
       "      <td>0</td>\n",
       "      <td>What can I cook with chicken, broccoli, and rice?</td>\n",
       "      <td>[chicken, broccoli, rice]</td>\n",
       "      <td>(What can I cook with chicken, broccoli, and r...</td>\n",
       "    </tr>\n",
       "    <tr>\n",
       "      <th>1</th>\n",
       "      <td>1</td>\n",
       "      <td>I have potatoes, carrots, and celery. What rec...</td>\n",
       "      <td>[potatoes, carrots, celery]</td>\n",
       "      <td>(I have potatoes, carrots, and celery. What re...</td>\n",
       "    </tr>\n",
       "    <tr>\n",
       "      <th>2</th>\n",
       "      <td>2</td>\n",
       "      <td>What dishes can I prepare with beef, bell pepp...</td>\n",
       "      <td>[beef, bell peppers, mushrooms]</td>\n",
       "      <td>(What dishes can I prepare with beef, bell pep...</td>\n",
       "    </tr>\n",
       "    <tr>\n",
       "      <th>3</th>\n",
       "      <td>3</td>\n",
       "      <td>What can I make with pasta, spinach, and cheese?</td>\n",
       "      <td>[pasta, spinach, cheese]</td>\n",
       "      <td>(What can I make with pasta, spinach, and chee...</td>\n",
       "    </tr>\n",
       "    <tr>\n",
       "      <th>4</th>\n",
       "      <td>4</td>\n",
       "      <td>What's a good vegetarian dish with lentils, to...</td>\n",
       "      <td>[lentils, tomatoes, onions]</td>\n",
       "      <td>(What's a good vegetarian dish with lentils, t...</td>\n",
       "    </tr>\n",
       "  </tbody>\n",
       "</table>\n",
       "</div>"
      ],
      "text/plain": [
       "   Unnamed: 0                                          sentences  \\\n",
       "0           0  What can I cook with chicken, broccoli, and rice?   \n",
       "1           1  I have potatoes, carrots, and celery. What rec...   \n",
       "2           2  What dishes can I prepare with beef, bell pepp...   \n",
       "3           3   What can I make with pasta, spinach, and cheese?   \n",
       "4           4  What's a good vegetarian dish with lentils, to...   \n",
       "\n",
       "                       ingredients  \\\n",
       "0        [chicken, broccoli, rice]   \n",
       "1      [potatoes, carrots, celery]   \n",
       "2  [beef, bell peppers, mushrooms]   \n",
       "3         [pasta, spinach, cheese]   \n",
       "4      [lentils, tomatoes, onions]   \n",
       "\n",
       "                                                 NER  \n",
       "0  (What can I cook with chicken, broccoli, and r...  \n",
       "1  (I have potatoes, carrots, and celery. What re...  \n",
       "2  (What dishes can I prepare with beef, bell pep...  \n",
       "3  (What can I make with pasta, spinach, and chee...  \n",
       "4  (What's a good vegetarian dish with lentils, t...  "
      ]
     },
     "execution_count": 13,
     "metadata": {},
     "output_type": "execute_result"
    }
   ],
   "source": [
    "def format_ner(row):\n",
    "    text = row['sentences']\n",
    "    entities = []\n",
    "    start_pos = 0\n",
    "    for ingredient in row['ingredients']:\n",
    "        start = text.find(ingredient)\n",
    "        if start != -1:\n",
    "            end = start + len(ingredient)\n",
    "            entities.append((start, end, \"INGREDIENT\"))\n",
    "    return (text, {\"entities\": entities})\n",
    "\n",
    "# Apply the function to each row and create the \"NER\" column\n",
    "users['NER'] = users.apply(format_ner, axis=1)\n",
    "\n",
    "users.head()"
   ]
  },
  {
   "cell_type": "code",
   "execution_count": 14,
   "metadata": {},
   "outputs": [
    {
     "data": {
      "text/plain": [
       "('What can I cook with chicken, broccoli, and rice?',\n",
       " {'entities': [(21, 28, 'INGREDIENT'),\n",
       "   (30, 38, 'INGREDIENT'),\n",
       "   (44, 48, 'INGREDIENT')]})"
      ]
     },
     "execution_count": 14,
     "metadata": {},
     "output_type": "execute_result"
    }
   ],
   "source": [
    "users[\"NER\"][0]"
   ]
  },
  {
   "cell_type": "code",
   "execution_count": 15,
   "metadata": {},
   "outputs": [
    {
     "name": "stdout",
     "output_type": "stream",
     "text": [
      "{'ner': 179.3669997592461}\n",
      "{'ner': 0.0001513773050299827}\n",
      "{'ner': 1.1140925520542612e-07}\n",
      "Entities: [('tomato sauce', 'INGREDIENT')]\n"
     ]
    }
   ],
   "source": [
    "import spacy\n",
    "import random\n",
    "from spacy.training.example import Example\n",
    "\n",
    "# Load the blank English model\n",
    "nlp = spacy.blank(\"en\")\n",
    "\n",
    "# Add NER pipeline\n",
    "ner = nlp.add_pipe(\"ner\")\n",
    "\n",
    "# Add labels for ingredients\n",
    "ner.add_label(\"INGREDIENT\")\n",
    "\n",
    "# Example training data\n",
    "TRAIN_DATA = users[\"NER\"][:int(0.8*len(users[\"NER\"]))]\n",
    "\n",
    "# Start training\n",
    "nlp.begin_training()\n",
    "\n",
    "# Train the model\n",
    "for itn in range(3):  # Train for 10 iterations\n",
    "    random.shuffle(TRAIN_DATA)\n",
    "    losses = {}\n",
    "\n",
    "    for text, annotations in TRAIN_DATA:\n",
    "\n",
    "        example = Example.from_dict(nlp.make_doc(text), annotations)\n",
    "        nlp.update([example], losses=losses)\n",
    "\n",
    "    print(losses)\n",
    "\n",
    "# Save the model to disk\n",
    "nlp.to_disk(\"ner_model\")\n",
    "\n",
    "# Load the saved model\n",
    "# nlp = spacy.load(\"ner_model\")\n",
    "\n",
    "# Test the trained model\n",
    "test_text = \"Cook spaghetti with tomato sauce\"\n",
    "doc = nlp(test_text)\n",
    "print(\"Entities:\", [(ent.text, ent.label_) for ent in doc.ents])"
   ]
  },
  {
   "cell_type": "code",
   "execution_count": 17,
   "metadata": {},
   "outputs": [
    {
     "name": "stdout",
     "output_type": "stream",
     "text": [
      "What's a good recipe for salmon, asparagus, and lemon pepper? (salmon, asparagus, lemon pepper)\n",
      "What can I cook with chicken, broccoli, and garlic? (chicken, broccoli, garlic)\n",
      "What's a good vegetarian dish with quinoa, black beans, and avocado? (quinoa, black beans, avocado)\n",
      "What can I make with ground beef, potatoes, and carrots? (ground beef, potatoes, carrots)\n",
      "What desserts can I make with raspberries, whipped cream, and shortcake? (raspberries, whipped cream, shortcake)\n",
      "What can I cook with shrimp, garlic, and tomato sauce? (shrimp, garlic, tomato sauce)\n",
      "I have pork tenderloin, sweet potatoes, and carrots. What's for dinner? (pork tenderloin, sweet potatoes, carrots)\n",
      "What's a simple recipe for chicken, rice, and broccoli? (chicken, rice, broccoli)\n",
      "What can I make with ground turkey, black beans, and corn tortillas? (ground turkey, black beans, corn tortillas)\n",
      "What recipes can I make with eggplant, tomatoes, and ricotta cheese? (eggplant, tomatoes, ricotta)\n",
      "What can I cook with tilapia, lemon, and herbs? (tilapia, lemon, herbs)\n",
      "What's a good recipe for beef, broccoli, and garlic sauce? (beef, broccoli, garlic sauce)\n",
      "What can I make with chicken, potatoes, and carrots? (chicken, potatoes, carrots)\n",
      "What desserts can I make with strawberries, whipped cream, and pound cake? (strawberries, whipped cream, pound cake)\n",
      "What can I cook with shrimp, garlic, and butter sauce? (shrimp, garlic, butter sauce)\n",
      "What's a good vegetarian recipe with chickpeas, spinach, and tomatoes? (chickpeas, spinach, tomatoes)\n",
      "What can I make with ground beef, pasta, and marinara sauce? (ground beef, pasta, marinara)\n",
      "What can I make with chicken, broccoli, and Alfredo sauce? (chicken, broccoli, Alfredo)\n",
      "What's a simple recipe for fish, rice, and vegetables? (fish, rice, vegetables)\n",
      "What desserts can I make with blueberries, yogurt, and granola? (blueberries, yogurt, granola)\n",
      "What can I cook with pork chops, apples, and onions? (pork chops, apples, onions)\n",
      "What recipes can I make with tofu, bell peppers, and soy sauce? (tofu, bell peppers, soy sauce)\n",
      "What can I make with ground turkey, bell peppers, and rice? (ground turkey, bell peppers, rice)\n",
      "What's a good recipe for salmon, asparagus, and potatoes? (salmon, asparagus, potatoes)\n",
      "What can I cook with chicken, mushrooms, and cream sauce? (chicken, mushrooms, cream sauce)\n",
      "What's a good vegetarian dish with quinoa, black beans, and corn? (quinoa, black beans, corn)\n",
      "What can I make with ground beef, potatoes, and onions? (ground beef, potatoes, onions)\n",
      "What desserts can I make with raspberries, whipped cream, and chocolate? (raspberries, whipped cream, chocolate)\n",
      "What can I cook with shrimp, garlic, and olive oil? (shrimp, garlic, olive oil)\n",
      "I have pork tenderloin, sweet potatoes, and green beans. What's for dinner? (pork tenderloin, sweet potatoes, green beans)\n",
      "What's a simple recipe for chicken, rice, and vegetables? (chicken, rice, vegetables)\n",
      "What can I make with ground turkey, black beans, and salsa? (ground turkey, black beans, salsa)\n",
      "What recipes can I make with eggplant, tomatoes, and mozzarella? (eggplant, tomatoes, mozzarella)\n",
      "What can I cook with tilapia, lemon, and butter? (tilapia, lemon, butter)\n",
      "What's a good recipe for beef, broccoli, and soy sauce? (beef, broccoli, soy sauce)\n",
      "What can I make with chicken, potatoes, and green beans? (chicken, potatoes, green beans)\n",
      "What desserts can I make with strawberries, cream cheese, and puff pastry? (strawberries, cream cheese, puff pastry)\n",
      "What can I cook with shrimp, garlic, and white wine? (shrimp, garlic, white wine)\n",
      "What's a good vegetarian recipe with chickpeas, spinach, and feta cheese? (chickpeas, spinach, feta)\n",
      "What can I make with ground beef, pasta, and Alfredo sauce? (ground beef, pasta, Alfredo)\n",
      "What can I make with chicken, spinach, and feta cheese? (chicken, spinach, feta)\n",
      "What's a simple recipe for fish, potatoes, and carrots? (fish, potatoes, carrots)\n",
      "What desserts can I make with bananas, chocolate chips, and walnuts? (bananas, chocolate chips, walnuts)\n",
      "What can I cook with pork chops, apples, and cinnamon? (pork chops, apples, cinnamon)\n",
      "What recipes can I make with tofu, broccoli, and teriyaki sauce? (tofu, broccoli, teriyaki sauce)\n",
      "What can I make with ground turkey, quinoa, and black beans? (ground turkey, quinoa, black beans)\n",
      "What's a good recipe for salmon, asparagus, and lemon pepper? (salmon, asparagus, lemon pepper)\n",
      "What can I cook with chicken, broccoli, and garlic? (chicken, broccoli, garlic)\n",
      "What's a good vegetarian dish with quinoa, black beans, and avocado? (quinoa, black beans, avocado)\n",
      "What can I make with ground beef, potatoes, and carrots? (ground beef, potatoes, carrots)\n",
      "What desserts can I make with raspberries, whipped cream, and shortcake? (raspberries, whipped cream, shortcake)\n",
      "What can I cook with shrimp, garlic, and tomato sauce? (shrimp, garlic, tomato sauce)\n",
      "I have pork tenderloin, sweet potatoes, and carrots. What's for dinner? (pork tenderloin, sweet potatoes, carrots)\n",
      "What's a simple recipe for chicken, rice, and broccoli? (chicken, rice, broccoli)\n",
      "What can I make with ground turkey, black beans, and corn tortillas? (ground turkey, black beans, corn tortillas)\n",
      "What recipes can I make with eggplant, tomatoes, and ricotta cheese? (eggplant, tomatoes, ricotta)\n",
      "What can I cook with tilapia, lemon, and herbs? (tilapia, lemon, herbs)\n",
      "What's a good recipe for beef, broccoli, and garlic sauce? (beef, broccoli, garlic sauce)\n",
      "What can I make with chicken, potatoes, and carrots? (chicken, potatoes, carrots)\n",
      "What desserts can I make with strawberries, whipped cream, and pound cake? (strawberries, whipped cream, pound cake)\n",
      "What can I cook with shrimp, garlic, and butter sauce? (shrimp, garlic, butter sauce)\n",
      "What's a good vegetarian recipe with chickpeas, spinach, and tomatoes? (chickpeas, spinach, tomatoes)\n",
      "What can I make with ground beef, pasta, and marinara sauce? (ground beef, pasta, marinara)\n",
      "What can I make with chicken, broccoli, and Alfredo sauce? (chicken, broccoli, Alfredo)\n",
      "What's a simple recipe for fish, rice, and vegetables? (fish, rice, vegetables)\n",
      "What desserts can I make with blueberries, yogurt, and granola? (blueberries, yogurt, granola)\n",
      "What can I cook with pork chops, apples, and onions? (pork chops, apples, onions)\n",
      "What recipes can I make with tofu, bell peppers, and soy sauce? (tofu, bell peppers, soy sauce)\n",
      "What can I make with ground turkey, bell peppers, and rice? (ground turkey, bell peppers, rice)\n",
      "What's a good recipe for salmon, asparagus, and potatoes? (salmon, asparagus, potatoes)\n",
      "What can I cook with chicken, mushrooms, and cream sauce? (chicken, mushrooms, cream sauce)\n",
      "What's a good vegetarian dish with quinoa, black beans, and corn? (quinoa, black beans, corn)\n",
      "What can I make with ground beef, potatoes, and onions? (ground beef, potatoes, onions)\n",
      "What desserts can I make with raspberries, whipped cream, and chocolate? (raspberries, whipped cream, chocolate)\n",
      "What can I cook with shrimp, garlic, and olive oil? (shrimp, garlic, olive oil)\n",
      "I have pork tenderloin, sweet potatoes, and green beans. What's for dinner? (pork tenderloin, sweet potatoes, green beans)\n"
     ]
    }
   ],
   "source": [
    "for i in users[\"sentences\"][int(0.8*len(users[\"NER\"])):]:\n",
    "    print(i, nlp(i).ents)\n",
    "    "
   ]
  },
  {
   "cell_type": "code",
   "execution_count": 18,
   "metadata": {},
   "outputs": [
    {
     "name": "stdout",
     "output_type": "stream",
     "text": [
      "(chocolate, butter, milk)\n"
     ]
    }
   ],
   "source": [
    "inp = input(\"What is your imput : \")\n",
    "print(nlp(inp).ents)\n"
   ]
  }
 ],
 "metadata": {
  "kernelspec": {
   "display_name": "Python 3",
   "language": "python",
   "name": "python3"
  },
  "language_info": {
   "codemirror_mode": {
    "name": "ipython",
    "version": 3
   },
   "file_extension": ".py",
   "mimetype": "text/x-python",
   "name": "python",
   "nbconvert_exporter": "python",
   "pygments_lexer": "ipython3",
   "version": "3.12.2"
  }
 },
 "nbformat": 4,
 "nbformat_minor": 2
}
