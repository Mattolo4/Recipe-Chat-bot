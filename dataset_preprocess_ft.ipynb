{
 "cells": [
  {
   "cell_type": "code",
   "execution_count": 16,
   "metadata": {},
   "outputs": [],
   "source": [
    "import pandas as pd\n",
    "import numpy as np\n",
    "from preprocessing import load_data, filter_tags\n",
    "import json\n",
    "import random"
   ]
  },
  {
   "cell_type": "code",
   "execution_count": 17,
   "metadata": {},
   "outputs": [],
   "source": [
    "def list_to_string(lst):\n",
    "    return ', '.join(lst)\n",
    "\n",
    "def create_numbered_steps(lst):\n",
    "    return '\\n'.join([f\"{i+1}. {step}\" for i, step in enumerate(lst)])"
   ]
  },
  {
   "cell_type": "code",
   "execution_count": 18,
   "metadata": {},
   "outputs": [],
   "source": [
    "df = load_data(\"filtered_recipes_ft.csv\", preprocess_steps=True)\n",
    "df = filter_tags(df,[\"beverages\"])"
   ]
  },
  {
   "cell_type": "code",
   "execution_count": 19,
   "metadata": {},
   "outputs": [
    {
     "name": "stdout",
     "output_type": "stream",
     "text": [
      "<class 'pandas.core.frame.DataFrame'>\n",
      "Index: 10452 entries, 0 to 10728\n",
      "Data columns (total 15 columns):\n",
      " #   Column          Non-Null Count  Dtype  \n",
      "---  ------          --------------  -----  \n",
      " 0   name            10452 non-null  object \n",
      " 1   id              10452 non-null  int64  \n",
      " 2   minutes         10452 non-null  int64  \n",
      " 3   contributor_id  10452 non-null  int64  \n",
      " 4   submitted       10452 non-null  object \n",
      " 5   tags            10452 non-null  object \n",
      " 6   nutrition       10452 non-null  object \n",
      " 7   n_steps         10452 non-null  int64  \n",
      " 8   steps           10452 non-null  object \n",
      " 9   description     10212 non-null  object \n",
      " 10  ingredients     10452 non-null  object \n",
      " 11  n_ingredients   10452 non-null  int64  \n",
      " 12  recipe_id       10452 non-null  int64  \n",
      " 13  num_ratings     10452 non-null  int64  \n",
      " 14  average_rating  10452 non-null  float64\n",
      "dtypes: float64(1), int64(7), object(7)\n",
      "memory usage: 1.3+ MB\n"
     ]
    }
   ],
   "source": [
    "df.info()"
   ]
  },
  {
   "cell_type": "code",
   "execution_count": 22,
   "metadata": {},
   "outputs": [],
   "source": [
    "def shuffle_and_split(data, train_ratio=0.87, val_ratio=0.03, test_ratio=0.1):\n",
    "    # Check if the ratios sum to 1\n",
    "    assert train_ratio + val_ratio + test_ratio == 1.0, \"The ratios must sum to 1\"\n",
    "\n",
    "    # Shuffle the data\n",
    "    random.shuffle(data)\n",
    "\n",
    "    # Calculate the split indices\n",
    "    total_len = len(data)\n",
    "    train_end = int(total_len * train_ratio)\n",
    "    val_end = train_end + int(total_len * val_ratio)\n",
    "\n",
    "    # Split the data\n",
    "    train_data = data[:train_end]\n",
    "    val_data = data[train_end:val_end]\n",
    "    test_data = data[val_end:]\n",
    "\n",
    "    return train_data, val_data, test_data"
   ]
  },
  {
   "cell_type": "code",
   "execution_count": 23,
   "metadata": {},
   "outputs": [],
   "source": [
    "json_list = []\n",
    "\n",
    "# Iterate through each row in the DataFrame\n",
    "for index, row in df.iterrows():\n",
    "    ingredients_str = list_to_string(row['ingredients'])\n",
    "    instructions_str = create_numbered_steps(row['steps'])\n",
    "    \n",
    "    json_object = {\n",
    "        \"instruction\": \"Give me a recipe I can make with the following ingredients.\",\n",
    "        \"input\": ingredients_str,\n",
    "        \"output\": instructions_str\n",
    "    }\n",
    "    \n",
    "    json_list.append(json_object)\n",
    "json_train, json_val, json_test = shuffle_and_split(json_list)\n",
    "\n",
    "# Save the list of JSON objects to a file\n",
    "with open('recipes_train.json', 'w') as json_file:\n",
    "    json.dump(json_train, json_file, indent=4)\n",
    "    \n",
    "with open('recipes_validation.json', 'w') as json_file:\n",
    "    json.dump(json_val, json_file, indent=4)\n",
    "\n",
    "with open('recipes_test.json', 'w') as json_file:\n",
    "    json.dump(json_test, json_file, indent=4)"
   ]
  },
  {
   "cell_type": "code",
   "execution_count": null,
   "metadata": {},
   "outputs": [],
   "source": []
  }
 ],
 "metadata": {
  "kernelspec": {
   "display_name": "kddm",
   "language": "python",
   "name": "python3"
  },
  "language_info": {
   "codemirror_mode": {
    "name": "ipython",
    "version": 3
   },
   "file_extension": ".py",
   "mimetype": "text/x-python",
   "name": "python",
   "nbconvert_exporter": "python",
   "pygments_lexer": "ipython3",
   "version": "3.12.2"
  }
 },
 "nbformat": 4,
 "nbformat_minor": 2
}
