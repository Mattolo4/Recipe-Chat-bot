{
 "cells": [
  {
   "cell_type": "markdown",
   "metadata": {},
   "source": [
    "### Imports"
   ]
  },
  {
   "cell_type": "code",
   "execution_count": null,
   "metadata": {},
   "outputs": [],
   "source": [
    "%load_ext autoreload\n",
    "%autoreload 2"
   ]
  },
  {
   "cell_type": "code",
   "execution_count": null,
   "metadata": {},
   "outputs": [],
   "source": [
    "import pandas as pd\n",
    "import numpy as np\n",
    "from collections import Counter\n",
    "import re\n",
    "from adam_functions import *"
   ]
  },
  {
   "cell_type": "markdown",
   "metadata": {},
   "source": [
    "# Preprocessing data"
   ]
  },
  {
   "cell_type": "markdown",
   "metadata": {},
   "source": [
    "### Filtering based on reviews"
   ]
  },
  {
   "cell_type": "code",
   "execution_count": null,
   "metadata": {},
   "outputs": [],
   "source": [
    "recipes_df = pd.read_csv('RAW_recipes.csv')\n",
    "interactions_df = pd.read_csv('RAW_interactions.csv')\n",
    "\n",
    "filter_recipes_by_rating(recipes_df, interactions_df, min_num_ratings=3, min_mean_rating=2.5)"
   ]
  },
  {
   "cell_type": "markdown",
   "metadata": {},
   "source": [
    "### Loading data"
   ]
  },
  {
   "cell_type": "code",
   "execution_count": null,
   "metadata": {},
   "outputs": [],
   "source": [
    "df = load_data(\"filtered_recipes.csv\")\n",
    "df = filter_tags(df,[\"beverages\"])\n",
    "df.reset_index(drop=True, inplace=True)\n",
    "df.info()"
   ]
  },
  {
   "cell_type": "markdown",
   "metadata": {},
   "source": [
    "### Preprocessing for fine-tuning of Llama"
   ]
  },
  {
   "cell_type": "code",
   "execution_count": null,
   "metadata": {},
   "outputs": [],
   "source": [
    "create_data_split_for_finetuning(df)"
   ]
  },
  {
   "cell_type": "markdown",
   "metadata": {},
   "source": [
    "# Ingredients Extraction"
   ]
  },
  {
   "cell_type": "markdown",
   "metadata": {},
   "source": [
    "### White list — example usage"
   ]
  },
  {
   "cell_type": "code",
   "execution_count": null,
   "metadata": {},
   "outputs": [],
   "source": [
    "ingredients_white_list = get_white_list(df)\n",
    "user_input = [\"I have tomatoes, onions, and garlic powder. What can I cook with them?\",\n",
    "                \"What dishes can I make with pasta, spinach, and blue cheese?\"]\n",
    "user_input = preprocess_arr(user_input)\n",
    "extracted_ingredients = white_list_user_input(ingredients_white_list, user_input) \n",
    "[print(f\"Ingredients: {ingrs}\\n\") for ingrs in extracted_ingredients]"
   ]
  },
  {
   "cell_type": "markdown",
   "metadata": {},
   "source": [
    "# Recipe fetching"
   ]
  },
  {
   "cell_type": "markdown",
   "metadata": {},
   "source": [
    "### Levenstein distance"
   ]
  },
  {
   "cell_type": "code",
   "execution_count": null,
   "metadata": {},
   "outputs": [],
   "source": [
    "ingredients_dict = {string: index for index, string in enumerate(ingredients_white_list)}    #chatgpt\n",
    "\n",
    "user_ingredients = np.array(['garlic', 'onions', 'tomatoes', 'pasta', 'salmon'])\n",
    "df_food = encode_ingredients_df(df,ingredients_dict)\n",
    "\n",
    "top_recipes = get_recipes_levenstein(df_food, user_ingredients, ingredients_dict, 2)\n",
    "\n",
    "print(top_recipes[\"name\"])\n"
   ]
  },
  {
   "cell_type": "markdown",
   "metadata": {},
   "source": [
    "# Evaluation"
   ]
  },
  {
   "cell_type": "markdown",
   "metadata": {},
   "source": [
    "### Ingredients extraction evaluation"
   ]
  },
  {
   "cell_type": "code",
   "execution_count": null,
   "metadata": {},
   "outputs": [],
   "source": [
    "with open('user_inputs.json', 'r') as file:\n",
    "    user_inputs = json.load(file)\n",
    "\n",
    "with open('user_inputs_ingredients.json', 'r') as file:\n",
    "    ground_truth = json.load(file)\n",
    "\n",
    "df_eval = df.iloc[len(user_inputs):]\n",
    "df.reset_index(drop=True, inplace=True)\n",
    "\n",
    "white_list_results = white_list(df, user_inputs)\n",
    "\n",
    "ner_results = extract_ingredients_NER(user_inputs)\n",
    "\n",
    "llm_results = extractIngredients(user_inputs)\n",
    "llm_results = llm_results_postprocess(llm_results)\n",
    "\n",
    "ingredients_lists = [white_list_results, ner_results, llm_results]\n",
    "methods = [\"white_list\", \"ner\", \"llm\"]\n",
    "levenstein_results = {\"white_list\":[], \"ner\":[], \"llm\":[]}\n",
    "\n",
    "for i,ingredients_list in enumerate(ingredients_lists):\n",
    "    for j,ingredients in enumerate(ingredients_list):\n",
    "        dist = levenstein_dist(sorted(ingredients),sorted(ground_truth[j]),0)\n",
    "        levenstein_results[methods[i]].append(dist)\n",
    "\n",
    "generate_violin_plot(levenstein_results)\n"
   ]
  }
 ],
 "metadata": {
  "kernelspec": {
   "display_name": "kddm",
   "language": "python",
   "name": "python3"
  },
  "language_info": {
   "codemirror_mode": {
    "name": "ipython",
    "version": 3
   },
   "file_extension": ".py",
   "mimetype": "text/x-python",
   "name": "python",
   "nbconvert_exporter": "python",
   "pygments_lexer": "ipython3",
   "version": "3.12.2"
  }
 },
 "nbformat": 4,
 "nbformat_minor": 2
}
