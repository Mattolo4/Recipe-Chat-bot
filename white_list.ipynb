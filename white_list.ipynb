{
 "cells": [
  {
   "cell_type": "code",
   "execution_count": 29,
   "metadata": {},
   "outputs": [],
   "source": [
    "import pandas as pd\n",
    "import numpy as np\n",
    "from collections import Counter\n",
    "import re\n",
    "from preprocessing import *\n",
    "\n",
    "MIN_INGREDIENT_APPEARANCES = 10"
   ]
  },
  {
   "cell_type": "code",
   "execution_count": 2,
   "metadata": {},
   "outputs": [],
   "source": [
    "df_all = load_data(\"RAW_recipes.csv\")\n",
    "df_food = filter_tags(df_all,[\"beverages\"])\n",
    "df_food.reset_index(drop=True, inplace=True)"
   ]
  },
  {
   "cell_type": "code",
   "execution_count": 3,
   "metadata": {},
   "outputs": [],
   "source": [
    "ingredients = df_food[\"ingredients\"]#.iloc[0:1000]\n",
    "all_ingredients = np.concatenate(ingredients)\n",
    "#all_ingredients_counter = Counter(all_ingredients)\n"
   ]
  },
  {
   "cell_type": "code",
   "execution_count": 4,
   "metadata": {},
   "outputs": [],
   "source": [
    "def preprocess_arr(arr_of_strings):\n",
    "    chars_to_remove = ['!', '\"', '%', '&', \"'\", '(', ')', '*', '-', '.', '/', '?']\n",
    "\n",
    "    for char in chars_to_remove:\n",
    "        arr_of_strings = np.char.replace(arr_of_strings, char, '') # chatgpt helped\n",
    "\n",
    "    pattern = r'\\d' # chatgpt provided (I can't do even simple regex from head I am sorry)\n",
    "\n",
    "    arr_of_strings = np.array([re.sub(pattern, '', s) for s in arr_of_strings]) # get rid of numbers\n",
    "    arr_of_strings = np.char.strip(arr_of_strings)  # get rid of leading and trailing white space\n",
    "    return arr_of_strings"
   ]
  },
  {
   "cell_type": "code",
   "execution_count": 30,
   "metadata": {},
   "outputs": [],
   "source": [
    "ingredients_white_list,counts = np.unique(all_ingredients,return_counts=True)\n",
    "ingredients_white_list = ingredients_white_list[counts > MIN_INGREDIENT_APPEARANCES]\n",
    "ingredients_white_list = preprocess_arr(ingredients_white_list)"
   ]
  },
  {
   "cell_type": "code",
   "execution_count": 31,
   "metadata": {},
   "outputs": [
    {
     "data": {
      "text/plain": [
       "' sum(counts>10)\\nimport matplotlib.pyplot as plt\\nplt.hist(counts,bins=range(1,100)) '"
      ]
     },
     "execution_count": 31,
     "metadata": {},
     "output_type": "execute_result"
    }
   ],
   "source": [
    "\"\"\" sum(counts>10)\n",
    "import matplotlib.pyplot as plt\n",
    "plt.hist(counts,bins=range(1,100)) \"\"\""
   ]
  },
  {
   "cell_type": "code",
   "execution_count": 32,
   "metadata": {},
   "outputs": [],
   "source": [
    "user_input = [\"I have tomatoes, onions, and garlic. What can I cook with them?\",\n",
    "             \"What dishes can I make with pasta, spinach, and cheese?\",\n",
    "             \"I found some shrimp, bell peppers, and mushrooms in the fridge. Any recipe suggestions?\",\n",
    "             \"My pantry has rice, beans, and tomatoes. What's a simple yet delicious meal I can prepare?\",\n",
    "             \"I have eggs, bacon, and bread. How can I turn these into a tasty breakfast?\",\n",
    "             \"What can I whip up with ground beef, bell peppers, and onions?\",\n",
    "             \"I bought salmon, asparagus, and lemon. What's a good recipe for a healthy dinner?\",\n",
    "             \"I've got tofu, broccoli, and soy sauce. Any suggestions for a vegetarian stir-fry?\",\n",
    "             \"What desserts can I make with flour, sugar, and chocolate?\",\n",
    "             \"I'm craving something sweet. What can I make with apples, cinnamon, and oats?\"]\n",
    "user_input = preprocess_arr(user_input)"
   ]
  },
  {
   "cell_type": "code",
   "execution_count": 33,
   "metadata": {},
   "outputs": [
    {
     "data": {
      "text/plain": [
       "\" # Concatenate all strings into one\\ncombined_string = ''.join(ingredients_white_list)\\n\\n# Get unique characters from the combined string\\nunique_characters = np.unique(list(combined_string))\\nunique_characters \""
      ]
     },
     "execution_count": 33,
     "metadata": {},
     "output_type": "execute_result"
    }
   ],
   "source": [
    "\"\"\" # Concatenate all strings into one\n",
    "combined_string = ''.join(ingredients_white_list)\n",
    "\n",
    "# Get unique characters from the combined string\n",
    "unique_characters = np.unique(list(combined_string))\n",
    "unique_characters \"\"\""
   ]
  },
  {
   "cell_type": "code",
   "execution_count": 34,
   "metadata": {},
   "outputs": [],
   "source": [
    "def get_word_sequences(text):\n",
    "    return re.findall(r'\\b[a-zA-Z]+\\b', text)   # chatgpt"
   ]
  },
  {
   "cell_type": "code",
   "execution_count": 35,
   "metadata": {},
   "outputs": [],
   "source": [
    "def white_list_user_input(white_list,user_input):\n",
    "    \"\"\" one_grams = [get_word_sequences(sentence) for sentence in user_input]\n",
    "    white_list_candidates = set()\n",
    "    for one_gram in one_grams:\n",
    "        one_gram_appearances = ingredients_white_list[np.char.find(ingredients_white_list, one_gram) >= 0]\n",
    "        white_list_candidates.update(one_gram_appearances)\n",
    "    pass \"\"\"\n",
    "    \n",
    "    if isinstance(user_input, str):\n",
    "        mask = np.array([user_input.find(s) != -1 for s in white_list]) #chatpgt\n",
    "        return white_list[mask]\n",
    "    \n",
    "    else:\n",
    "        results = []\n",
    "        for sentence in user_input:\n",
    "            mask = np.array([sentence.find(s) != -1 for s in white_list]) #chatpgt\n",
    "            results.append(white_list[mask])\n",
    "        return results"
   ]
  },
  {
   "cell_type": "code",
   "execution_count": 40,
   "metadata": {},
   "outputs": [
    {
     "data": {
      "text/plain": [
       "[array(['garlic', 'onion', 'onions', 'tomatoes'], dtype='<U55'),\n",
       " array(['cheese', 'pasta', 'spinach'], dtype='<U55'),\n",
       " array(['bell pepper', 'bell peppers', 'mushroom', 'mushrooms', 'pepper',\n",
       "        'shrimp'], dtype='<U55'),\n",
       " array(['beans', 'ice', 'rice', 'tomatoes'], dtype='<U55'),\n",
       " array(['bacon', 'bread', 'egg', 'eggs'], dtype='<U55'),\n",
       " array(['beef', 'bell pepper', 'bell peppers', 'ground beef', 'onion',\n",
       "        'onions', 'pepper'], dtype='<U55'),\n",
       " array(['asparagus', 'lemon', 'salmon'], dtype='<U55'),\n",
       " array(['broccoli', 'soy sauce', 'tofu'], dtype='<U55'),\n",
       " array(['chocolate', 'cola', 'flour', 'sugar'], dtype='<U55'),\n",
       " array(['apple', 'apples', 'cinnamon', 'hing', 'oats'], dtype='<U55')]"
      ]
     },
     "execution_count": 40,
     "metadata": {},
     "output_type": "execute_result"
    }
   ],
   "source": [
    "white_list_user_input(ingredients_white_list, user_input)"
   ]
  }
 ],
 "metadata": {
  "kernelspec": {
   "display_name": "kddm",
   "language": "python",
   "name": "python3"
  },
  "language_info": {
   "codemirror_mode": {
    "name": "ipython",
    "version": 3
   },
   "file_extension": ".py",
   "mimetype": "text/x-python",
   "name": "python",
   "nbconvert_exporter": "python",
   "pygments_lexer": "ipython3",
   "version": "3.12.2"
  }
 },
 "nbformat": 4,
 "nbformat_minor": 2
}
